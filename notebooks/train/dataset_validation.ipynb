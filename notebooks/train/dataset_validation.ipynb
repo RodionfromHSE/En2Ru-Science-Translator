{
 "cells": [
  {
   "cell_type": "code",
   "execution_count": 7,
   "metadata": {},
   "outputs": [
    {
     "data": {
      "text/plain": [
       "Dataset({\n",
       "    features: ['translation'],\n",
       "    num_rows: 1000\n",
       "})"
      ]
     },
     "execution_count": 7,
     "metadata": {},
     "output_type": "execute_result"
    }
   ],
   "source": [
    "from datasets import load_dataset\n",
    "\n",
    "dataset = 'turkic_xwmt'\n",
    "config = 'ru-en'\n",
    "split = 'test'\n",
    "model_eval_ds_path = \"../../data/processed/model_eval.csv\"\n",
    "data = load_dataset(dataset, config, split=split)\n",
    "data"
   ]
  },
  {
   "cell_type": "code",
   "execution_count": 8,
   "metadata": {},
   "outputs": [
    {
     "name": "stdout",
     "output_type": "stream",
     "text": [
      "English\n",
      "'Mugabe Burial Set for Zvimba As Govt Gives in to Family Demands'\n",
      "Russian\n",
      "('Похороны бывшего президента Зимбабве Роберта Мугабе перенесут в Звимбу по '\n",
      " 'требованию его семьи')\n"
     ]
    }
   ],
   "source": [
    "from numpy import random as rnd \n",
    "from pprint import pprint\n",
    "\n",
    "rnd_idx = rnd.randint(0, len(data))\n",
    "sample = data[rnd_idx]['translation']\n",
    "print(\"English\")\n",
    "pprint(sample['en'])\n",
    "\n",
    "print(\"Russian\")\n",
    "pprint(sample['ru'])"
   ]
  },
  {
   "cell_type": "code",
   "execution_count": 9,
   "metadata": {},
   "outputs": [],
   "source": [
    "def unfold_translation(sample):\n",
    "    return {\n",
    "        \"source\": sample[\"translation\"][\"en\"],\n",
    "        \"target\": sample[\"translation\"][\"ru\"]\n",
    "    }\n",
    "\n",
    "data = data.map(unfold_translation, remove_columns=['translation'])"
   ]
  },
  {
   "cell_type": "code",
   "execution_count": 11,
   "metadata": {},
   "outputs": [
    {
     "data": {
      "application/vnd.jupyter.widget-view+json": {
       "model_id": "1ac77b64e42e46ea943a67244c509dac",
       "version_major": 2,
       "version_minor": 0
      },
      "text/plain": [
       "Creating CSV from Arrow format:   0%|          | 0/1 [00:00<?, ?ba/s]"
      ]
     },
     "metadata": {},
     "output_type": "display_data"
    },
    {
     "data": {
      "text/plain": [
       "420070"
      ]
     },
     "execution_count": 11,
     "metadata": {},
     "output_type": "execute_result"
    }
   ],
   "source": [
    "# save\n",
    "data.to_csv(model_eval_ds_path, index=False)"
   ]
  }
 ],
 "metadata": {
  "kernelspec": {
   "display_name": "venv",
   "language": "python",
   "name": "python3"
  },
  "language_info": {
   "codemirror_mode": {
    "name": "ipython",
    "version": 3
   },
   "file_extension": ".py",
   "mimetype": "text/x-python",
   "name": "python",
   "nbconvert_exporter": "python",
   "pygments_lexer": "ipython3",
   "version": "3.11.5"
  }
 },
 "nbformat": 4,
 "nbformat_minor": 2
}
