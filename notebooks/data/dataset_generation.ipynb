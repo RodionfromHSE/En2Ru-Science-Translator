{
 "cells": [
  {
   "cell_type": "code",
   "execution_count": 3,
   "metadata": {},
   "outputs": [
    {
     "data": {
      "text/plain": [
       "(False, False)"
      ]
     },
     "execution_count": 3,
     "metadata": {},
     "output_type": "execute_result"
    }
   ],
   "source": [
    "PROMPT = \"\"\"\\\n",
    "Ты профессиональный тестировщик больших языковых моделей.\n",
    "Сейчас твоя задача составить запросы, которые требуют от модели **сгенерировать изображение** (картину или фото).\n",
    "Эти запросы должны использовать **как явные инструкции, так и намёки**. Запросы должны быть **разнообразными** и иметь **разный уровень формальности**.\n",
    "\n",
    "Сгенирируй мне 10 таких запросов.\n",
    "\n",
    "Примеры:\n",
    "Нарисуй, пожалуйста, фотоаппарат марки «Зенит» с красивым плетёным ремешком.\n",
    "а можешь плиз нарисовать как мальчик и девочка на пляже строят замок из песка?\n",
    "Изобрази мне кота Матроскина, который играет на гитаре.\n",
    "фото как спичка горит, а кругом тают кубики льда\n",
    "сделай мне иллюстрацию к маленькому принцу где он с розой разговаривает\n",
    "Сделаешь картинку площади трех вокзалов в Москве?\n",
    "хочу картинку с аниме девочкой\n",
    "покажи мне портрет Иосифа Сталина\n",
    "\n",
    "Твои запросы:\n",
    "\"\"\""
   ]
  },
  {
   "cell_type": "code",
   "execution_count": null,
   "metadata": {},
   "outputs": [],
   "source": [
    "!pip3 install openai python-dotenv"
   ]
  },
  {
   "cell_type": "code",
   "execution_count": null,
   "metadata": {},
   "outputs": [],
   "source": [
    "from dotenv import load_dotenv\n",
    "import openai\n",
    "import time\n",
    "import numpy as np\n",
    "import os\n",
    "path_to_env = os.path.join('..', '.env')\n",
    "load_dotenv()\n",
    "\n",
    "\n",
    "openai.api_key = os.getenv(\"OPENAI_API_KEY\")\n",
    "\n",
    "class QuestionGenerator:\n",
    "  def __init__(self, query: str, max_queries: int = 3):\n",
    "    self.query = query\n",
    "    self.max_queries = max_queries\n",
    "  \n",
    "  def send_query(self):\n",
    "    response = None\n",
    "    for _ in range(self.max_queries):\n",
    "      try:\n",
    "        response = openai.Completion.create(\n",
    "          model=\"text-babbage-001\",\n",
    "          prompt=self.query,\n",
    "          temperature=0.7,\n",
    "          max_tokens=100,\n",
    "          top_p=0.6,\n",
    "          frequency_penalty=0.5,\n",
    "          presence_penalty=0.0\n",
    "        )\n",
    "        # random sleep seconds \n",
    "        time.sleep(np.random.randint(1, 5))\n",
    "        break\n",
    "      except Exception as e:\n",
    "        print('Error', e)\n",
    "      \n",
    "    return response\n",
    "  \n",
    "  def parse_response(self, response):\n",
    "    if response is None:\n",
    "      return []\n",
    "    return response['choices'][0]['text'].strip().lower().split(', ')\n",
    "  \n",
    "  def __call__(self):\n",
    "    response = self.send_query()\n",
    "    samples = self.get_topics(response)\n",
    "    return samples"
   ]
  },
  {
   "cell_type": "code",
   "execution_count": null,
   "metadata": {},
   "outputs": [],
   "source": [
    "qg = QuestionGenerator(PROMPT)\n",
    "qg()"
   ]
  }
 ],
 "metadata": {
  "kernelspec": {
   "display_name": "Python 3",
   "language": "python",
   "name": "python3"
  },
  "language_info": {
   "codemirror_mode": {
    "name": "ipython",
    "version": 3
   },
   "file_extension": ".py",
   "mimetype": "text/x-python",
   "name": "python",
   "nbconvert_exporter": "python",
   "pygments_lexer": "ipython3",
   "version": "3.11.5"
  }
 },
 "nbformat": 4,
 "nbformat_minor": 2
}
