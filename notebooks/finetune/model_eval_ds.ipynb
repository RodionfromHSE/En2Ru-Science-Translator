{
 "cells": [
  {
   "cell_type": "code",
   "execution_count": 1,
   "metadata": {},
   "outputs": [],
   "source": [
    "%load_ext autoreload\n",
    "%autoreload 2"
   ]
  },
  {
   "cell_type": "code",
   "execution_count": 2,
   "metadata": {},
   "outputs": [],
   "source": [
    "import os\n",
    "import sys\n",
    "\n",
    "root_dir = os.path.abspath(os.path.join(os.getcwd(), '../..'))\n",
    "sys.path.insert(0, root_dir)\n",
    "\n",
    "from custom_utils.config_handler import read_config, pprint_config"
   ]
  },
  {
   "cell_type": "code",
   "execution_count": 3,
   "metadata": {},
   "outputs": [
    {
     "name": "stdout",
     "output_type": "stream",
     "text": [
      "{\n",
      "  \"root\": \"/Users/user010/Desktop/Programming/ML/En2RuTranslator\",\n",
      "  \"load_dataset_params\": {\n",
      "    \"path\": \"turkic_xwmt\",\n",
      "    \"name\": \"ru-en\",\n",
      "    \"split\": \"test\"\n",
      "  },\n",
      "  \"save_path\": \"/Users/user010/Desktop/Programming/ML/En2RuTranslator/data/model_eval.csv\"\n",
      "}\n"
     ]
    }
   ],
   "source": [
    "path_config = \"../../conf/config.yaml\"\n",
    "global_cfg = read_config(path_config)\n",
    "cfg = read_config(global_cfg.notebook_configs.finetune.model_eval, global_cfg.root)\n",
    "pprint_config(cfg)"
   ]
  },
  {
   "cell_type": "code",
   "execution_count": 39,
   "metadata": {},
   "outputs": [
    {
     "data": {
      "text/plain": [
       "Dataset({\n",
       "    features: ['translation'],\n",
       "    num_rows: 1000\n",
       "})"
      ]
     },
     "execution_count": 39,
     "metadata": {},
     "output_type": "execute_result"
    }
   ],
   "source": [
    "from datasets import load_dataset\n",
    "\n",
    "params = cfg.load_dataset_params\n",
    "data = load_dataset(**params)\n",
    "data"
   ]
  },
  {
   "cell_type": "code",
   "execution_count": 40,
   "metadata": {},
   "outputs": [
    {
     "name": "stdout",
     "output_type": "stream",
     "text": [
      "English\n",
      "('The alleged attack on her office came as Boris Johnson came under scrutiny '\n",
      " 'for his use of \" inflammatory \" language , with Jeremy Corbyn saying the '\n",
      " 'Tory was encouraging people to act in \" disgraceful and abusive \" ways .')\n",
      "Russian\n",
      "('Атака на офис случилась в тот момент , когда Борис Джонсон попал в центр '\n",
      " 'внимания за использование языка , “ разжигающего ненависть ” , а Джереми '\n",
      " 'Корбин сказал , что Тори провоцируют людей на “ недостойное и оскорбительное '\n",
      " '” поведение .')\n"
     ]
    }
   ],
   "source": [
    "from numpy import random as rnd \n",
    "from pprint import pprint\n",
    "\n",
    "rnd_idx = rnd.randint(0, len(data))\n",
    "sample = data[rnd_idx]['translation']\n",
    "print(\"English\")\n",
    "pprint(sample['en'])\n",
    "\n",
    "print(\"Russian\")\n",
    "pprint(sample['ru'])"
   ]
  },
  {
   "cell_type": "code",
   "execution_count": 41,
   "metadata": {},
   "outputs": [],
   "source": [
    "def unfold_translation(sample):\n",
    "    return {\n",
    "        \"source\": sample[\"translation\"][\"en\"],\n",
    "        \"target\": sample[\"translation\"][\"ru\"]\n",
    "    }\n",
    "\n",
    "data = data.map(unfold_translation, remove_columns=['translation'])"
   ]
  },
  {
   "cell_type": "code",
   "execution_count": 42,
   "metadata": {},
   "outputs": [
    {
     "data": {
      "application/vnd.jupyter.widget-view+json": {
       "model_id": "3b0522a6fb974ed5a6ac20c0826ca732",
       "version_major": 2,
       "version_minor": 0
      },
      "text/plain": [
       "Creating CSV from Arrow format:   0%|          | 0/1 [00:00<?, ?ba/s]"
      ]
     },
     "metadata": {},
     "output_type": "display_data"
    },
    {
     "data": {
      "text/plain": [
       "420070"
      ]
     },
     "execution_count": 42,
     "metadata": {},
     "output_type": "execute_result"
    }
   ],
   "source": [
    "# save\n",
    "data.to_csv(cfg.save_path, index=False)"
   ]
  }
 ],
 "metadata": {
  "kernelspec": {
   "display_name": "venv",
   "language": "python",
   "name": "python3"
  },
  "language_info": {
   "codemirror_mode": {
    "name": "ipython",
    "version": 3
   },
   "file_extension": ".py",
   "mimetype": "text/x-python",
   "name": "python",
   "nbconvert_exporter": "python",
   "pygments_lexer": "ipython3",
   "version": "3.11.5"
  }
 },
 "nbformat": 4,
 "nbformat_minor": 2
}
